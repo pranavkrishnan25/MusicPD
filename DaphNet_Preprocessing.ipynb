{
 "cells": [
  {
   "cell_type": "code",
   "execution_count": 1,
   "metadata": {},
   "outputs": [],
   "source": [
    "import os\n",
    "import pandas as pd\n",
    "import numpy as np"
   ]
  },
  {
   "cell_type": "code",
   "execution_count": 2,
   "metadata": {},
   "outputs": [],
   "source": [
    "def get_strides(a, window, step):\n",
    "    out = []\n",
    "    for i in range(0, a.shape[0]-window+1, step):\n",
    "        out.append(a[i:i+window, :])\n",
    "\n",
    "    return np.array(out)"
   ]
  },
  {
   "cell_type": "code",
   "execution_count": 10,
   "metadata": {},
   "outputs": [
    {
     "name": "stdout",
     "output_type": "stream",
     "text": [
      "DaphNet\\S01R01.txt\n"
     ]
    },
    {
     "data": {
      "text/plain": [
       "'Processed X:'"
      ]
     },
     "metadata": {},
     "output_type": "display_data"
    },
    {
     "data": {
      "text/plain": [
       "(2893, 256, 3)"
      ]
     },
     "metadata": {},
     "output_type": "display_data"
    },
    {
     "data": {
      "text/plain": [
       "'Processed Y:'"
      ]
     },
     "metadata": {},
     "output_type": "display_data"
    },
    {
     "data": {
      "text/plain": [
       "(2893, 1)"
      ]
     },
     "metadata": {},
     "output_type": "display_data"
    },
    {
     "name": "stdout",
     "output_type": "stream",
     "text": [
      "DaphNet\\S01R02.txt\n"
     ]
    },
    {
     "data": {
      "text/plain": [
       "'Processed X:'"
      ]
     },
     "metadata": {},
     "output_type": "display_data"
    },
    {
     "data": {
      "text/plain": [
       "(893, 256, 3)"
      ]
     },
     "metadata": {},
     "output_type": "display_data"
    },
    {
     "data": {
      "text/plain": [
       "'Processed Y:'"
      ]
     },
     "metadata": {},
     "output_type": "display_data"
    },
    {
     "data": {
      "text/plain": [
       "(893, 1)"
      ]
     },
     "metadata": {},
     "output_type": "display_data"
    },
    {
     "name": "stdout",
     "output_type": "stream",
     "text": [
      "DaphNet\\S02R01.txt\n"
     ]
    },
    {
     "data": {
      "text/plain": [
       "'Processed X:'"
      ]
     },
     "metadata": {},
     "output_type": "display_data"
    },
    {
     "data": {
      "text/plain": [
       "(793, 256, 3)"
      ]
     },
     "metadata": {},
     "output_type": "display_data"
    },
    {
     "data": {
      "text/plain": [
       "'Processed Y:'"
      ]
     },
     "metadata": {},
     "output_type": "display_data"
    },
    {
     "data": {
      "text/plain": [
       "(793, 1)"
      ]
     },
     "metadata": {},
     "output_type": "display_data"
    },
    {
     "name": "stdout",
     "output_type": "stream",
     "text": [
      "DaphNet\\S02R02.txt\n"
     ]
    },
    {
     "data": {
      "text/plain": [
       "'Processed X:'"
      ]
     },
     "metadata": {},
     "output_type": "display_data"
    },
    {
     "data": {
      "text/plain": [
       "(2023, 256, 3)"
      ]
     },
     "metadata": {},
     "output_type": "display_data"
    },
    {
     "data": {
      "text/plain": [
       "'Processed Y:'"
      ]
     },
     "metadata": {},
     "output_type": "display_data"
    },
    {
     "data": {
      "text/plain": [
       "(2023, 1)"
      ]
     },
     "metadata": {},
     "output_type": "display_data"
    },
    {
     "name": "stdout",
     "output_type": "stream",
     "text": [
      "DaphNet\\S03R01.txt\n"
     ]
    },
    {
     "data": {
      "text/plain": [
       "'Processed X:'"
      ]
     },
     "metadata": {},
     "output_type": "display_data"
    },
    {
     "data": {
      "text/plain": [
       "(2833, 256, 3)"
      ]
     },
     "metadata": {},
     "output_type": "display_data"
    },
    {
     "data": {
      "text/plain": [
       "'Processed Y:'"
      ]
     },
     "metadata": {},
     "output_type": "display_data"
    },
    {
     "data": {
      "text/plain": [
       "(2833, 1)"
      ]
     },
     "metadata": {},
     "output_type": "display_data"
    },
    {
     "name": "stdout",
     "output_type": "stream",
     "text": [
      "DaphNet\\S03R02.txt\n"
     ]
    },
    {
     "data": {
      "text/plain": [
       "'Processed X:'"
      ]
     },
     "metadata": {},
     "output_type": "display_data"
    },
    {
     "data": {
      "text/plain": [
       "(513, 256, 3)"
      ]
     },
     "metadata": {},
     "output_type": "display_data"
    },
    {
     "data": {
      "text/plain": [
       "'Processed Y:'"
      ]
     },
     "metadata": {},
     "output_type": "display_data"
    },
    {
     "data": {
      "text/plain": [
       "(513, 1)"
      ]
     },
     "metadata": {},
     "output_type": "display_data"
    },
    {
     "name": "stdout",
     "output_type": "stream",
     "text": [
      "DaphNet\\S03R03.txt\n"
     ]
    },
    {
     "data": {
      "text/plain": [
       "'Processed X:'"
      ]
     },
     "metadata": {},
     "output_type": "display_data"
    },
    {
     "data": {
      "text/plain": [
       "(653, 256, 3)"
      ]
     },
     "metadata": {},
     "output_type": "display_data"
    },
    {
     "data": {
      "text/plain": [
       "'Processed Y:'"
      ]
     },
     "metadata": {},
     "output_type": "display_data"
    },
    {
     "data": {
      "text/plain": [
       "(653, 1)"
      ]
     },
     "metadata": {},
     "output_type": "display_data"
    },
    {
     "name": "stdout",
     "output_type": "stream",
     "text": [
      "DaphNet\\S04R01.txt\n"
     ]
    },
    {
     "data": {
      "text/plain": [
       "'Processed X:'"
      ]
     },
     "metadata": {},
     "output_type": "display_data"
    },
    {
     "data": {
      "text/plain": [
       "(4133, 256, 3)"
      ]
     },
     "metadata": {},
     "output_type": "display_data"
    },
    {
     "data": {
      "text/plain": [
       "'Processed Y:'"
      ]
     },
     "metadata": {},
     "output_type": "display_data"
    },
    {
     "data": {
      "text/plain": [
       "(4133, 1)"
      ]
     },
     "metadata": {},
     "output_type": "display_data"
    },
    {
     "name": "stdout",
     "output_type": "stream",
     "text": [
      "DaphNet\\S05R01.txt\n"
     ]
    },
    {
     "data": {
      "text/plain": [
       "'Processed X:'"
      ]
     },
     "metadata": {},
     "output_type": "display_data"
    },
    {
     "data": {
      "text/plain": [
       "(2113, 256, 3)"
      ]
     },
     "metadata": {},
     "output_type": "display_data"
    },
    {
     "data": {
      "text/plain": [
       "'Processed Y:'"
      ]
     },
     "metadata": {},
     "output_type": "display_data"
    },
    {
     "data": {
      "text/plain": [
       "(2113, 1)"
      ]
     },
     "metadata": {},
     "output_type": "display_data"
    },
    {
     "name": "stdout",
     "output_type": "stream",
     "text": [
      "DaphNet\\S05R02.txt\n"
     ]
    },
    {
     "data": {
      "text/plain": [
       "'Processed X:'"
      ]
     },
     "metadata": {},
     "output_type": "display_data"
    },
    {
     "data": {
      "text/plain": [
       "(2053, 256, 3)"
      ]
     },
     "metadata": {},
     "output_type": "display_data"
    },
    {
     "data": {
      "text/plain": [
       "'Processed Y:'"
      ]
     },
     "metadata": {},
     "output_type": "display_data"
    },
    {
     "data": {
      "text/plain": [
       "(2053, 1)"
      ]
     },
     "metadata": {},
     "output_type": "display_data"
    },
    {
     "name": "stdout",
     "output_type": "stream",
     "text": [
      "DaphNet\\S06R01.txt\n"
     ]
    },
    {
     "data": {
      "text/plain": [
       "'Processed X:'"
      ]
     },
     "metadata": {},
     "output_type": "display_data"
    },
    {
     "data": {
      "text/plain": [
       "(3353, 256, 3)"
      ]
     },
     "metadata": {},
     "output_type": "display_data"
    },
    {
     "data": {
      "text/plain": [
       "'Processed Y:'"
      ]
     },
     "metadata": {},
     "output_type": "display_data"
    },
    {
     "data": {
      "text/plain": [
       "(3353, 1)"
      ]
     },
     "metadata": {},
     "output_type": "display_data"
    },
    {
     "name": "stdout",
     "output_type": "stream",
     "text": [
      "DaphNet\\S06R02.txt\n"
     ]
    },
    {
     "data": {
      "text/plain": [
       "'Processed X:'"
      ]
     },
     "metadata": {},
     "output_type": "display_data"
    },
    {
     "data": {
      "text/plain": [
       "(613, 256, 3)"
      ]
     },
     "metadata": {},
     "output_type": "display_data"
    },
    {
     "data": {
      "text/plain": [
       "'Processed Y:'"
      ]
     },
     "metadata": {},
     "output_type": "display_data"
    },
    {
     "data": {
      "text/plain": [
       "(613, 1)"
      ]
     },
     "metadata": {},
     "output_type": "display_data"
    },
    {
     "name": "stdout",
     "output_type": "stream",
     "text": [
      "DaphNet\\S07R01.txt\n"
     ]
    },
    {
     "data": {
      "text/plain": [
       "'Processed X:'"
      ]
     },
     "metadata": {},
     "output_type": "display_data"
    },
    {
     "data": {
      "text/plain": [
       "(2313, 256, 3)"
      ]
     },
     "metadata": {},
     "output_type": "display_data"
    },
    {
     "data": {
      "text/plain": [
       "'Processed Y:'"
      ]
     },
     "metadata": {},
     "output_type": "display_data"
    },
    {
     "data": {
      "text/plain": [
       "(2313, 1)"
      ]
     },
     "metadata": {},
     "output_type": "display_data"
    },
    {
     "name": "stdout",
     "output_type": "stream",
     "text": [
      "DaphNet\\S07R02.txt\n"
     ]
    },
    {
     "data": {
      "text/plain": [
       "'Processed X:'"
      ]
     },
     "metadata": {},
     "output_type": "display_data"
    },
    {
     "data": {
      "text/plain": [
       "(893, 256, 3)"
      ]
     },
     "metadata": {},
     "output_type": "display_data"
    },
    {
     "data": {
      "text/plain": [
       "'Processed Y:'"
      ]
     },
     "metadata": {},
     "output_type": "display_data"
    },
    {
     "data": {
      "text/plain": [
       "(893, 1)"
      ]
     },
     "metadata": {},
     "output_type": "display_data"
    },
    {
     "name": "stdout",
     "output_type": "stream",
     "text": [
      "DaphNet\\S08R01.txt\n"
     ]
    },
    {
     "data": {
      "text/plain": [
       "'Processed X:'"
      ]
     },
     "metadata": {},
     "output_type": "display_data"
    },
    {
     "data": {
      "text/plain": [
       "(1533, 256, 3)"
      ]
     },
     "metadata": {},
     "output_type": "display_data"
    },
    {
     "data": {
      "text/plain": [
       "'Processed Y:'"
      ]
     },
     "metadata": {},
     "output_type": "display_data"
    },
    {
     "data": {
      "text/plain": [
       "(1533, 1)"
      ]
     },
     "metadata": {},
     "output_type": "display_data"
    },
    {
     "name": "stdout",
     "output_type": "stream",
     "text": [
      "DaphNet\\S09R01.txt\n"
     ]
    },
    {
     "data": {
      "text/plain": [
       "'Processed X:'"
      ]
     },
     "metadata": {},
     "output_type": "display_data"
    },
    {
     "data": {
      "text/plain": [
       "(3473, 256, 3)"
      ]
     },
     "metadata": {},
     "output_type": "display_data"
    },
    {
     "data": {
      "text/plain": [
       "'Processed Y:'"
      ]
     },
     "metadata": {},
     "output_type": "display_data"
    },
    {
     "data": {
      "text/plain": [
       "(3473, 1)"
      ]
     },
     "metadata": {},
     "output_type": "display_data"
    },
    {
     "name": "stdout",
     "output_type": "stream",
     "text": [
      "DaphNet\\S10R01.txt\n"
     ]
    },
    {
     "data": {
      "text/plain": [
       "'Processed X:'"
      ]
     },
     "metadata": {},
     "output_type": "display_data"
    },
    {
     "data": {
      "text/plain": [
       "(4453, 256, 3)"
      ]
     },
     "metadata": {},
     "output_type": "display_data"
    },
    {
     "data": {
      "text/plain": [
       "'Processed Y:'"
      ]
     },
     "metadata": {},
     "output_type": "display_data"
    },
    {
     "data": {
      "text/plain": [
       "(4453, 1)"
      ]
     },
     "metadata": {},
     "output_type": "display_data"
    }
   ],
   "source": [
    "\n",
    "WINDOW_SIZE = 256 # samples\n",
    "STEP_SIZE = 32 # samples\n",
    "\n",
    "final_X = np.array([], dtype=np.int64).reshape(0, 256, 3)\n",
    "final_Y = np.array([], dtype=np.int64).reshape(0, 1)\n",
    "\n",
    "for filename in os.listdir(\"DaphNet\"):\n",
    "\tf = os.path.join(\"DaphNet\", filename)\n",
    "\tif os.path.isfile(f):\n",
    "\t\tprint(f)\n",
    "\t\tdf = pd.read_csv(f, usecols=[4, 5, 6, 10], names=['Z', 'Y', 'X', 'FoG'], header=None, sep=\" \")\n",
    "\t\tdf = df[df.FoG != 0]\n",
    "\t\traw_X = df[['Z', 'Y', 'X']]\n",
    "\t\traw_Y = pd.get_dummies(df.FoG)\n",
    "\t\tprocessed_X = get_strides(raw_X.to_numpy(), window=WINDOW_SIZE, step=STEP_SIZE)\n",
    "\t\tstrided_Y = get_strides(raw_Y.to_numpy(), window=WINDOW_SIZE, step=STEP_SIZE)\n",
    "\n",
    "\t\tprocessed_Y = []\n",
    "\n",
    "\n",
    "\t\tfor sample in strided_Y:\n",
    "\t\t\tset = False\n",
    "\t\t\tfor FoG in sample:\n",
    "\t\t\t\tif (FoG != np.array([1, 0])).all():\n",
    "\t\t\t\t\tset = True\n",
    "\t\t\t\t\tbreak\n",
    "\t\t\tif set:\n",
    "\t\t\t\tprocessed_Y.append([1])\n",
    "\t\t\t\t\n",
    "\t\t\telse:\n",
    "\t\t\t\tprocessed_Y.append([0])\n",
    "\n",
    "\t\tprocessed_Y = np.array(processed_Y)\n",
    "\n",
    "\n",
    "\t\tdisplay(\"Processed X:\", processed_X.shape, \"Processed Y:\", processed_Y.shape)\n",
    "\n",
    "\t\tfinal_X = np.vstack([final_X, processed_X])\n",
    "\t\tfinal_Y = np.vstack([final_Y, processed_Y])\n",
    "\t\t"
   ]
  },
  {
   "cell_type": "code",
   "execution_count": 11,
   "metadata": {},
   "outputs": [
    {
     "data": {
      "text/plain": [
       "(35531, 256, 3)"
      ]
     },
     "metadata": {},
     "output_type": "display_data"
    },
    {
     "data": {
      "text/plain": [
       "(35531, 1)"
      ]
     },
     "metadata": {},
     "output_type": "display_data"
    }
   ],
   "source": [
    "display(final_X.shape, final_Y.shape)\n",
    "\n",
    "np.save(\"Processed DaphNet/final_x\", final_X)\n",
    "np.save(\"Processed DaphNet/final_y\", final_Y)\n"
   ]
  }
 ],
 "metadata": {
  "kernelspec": {
   "display_name": "Python 3.8.10 64-bit",
   "language": "python",
   "name": "python3"
  },
  "language_info": {
   "codemirror_mode": {
    "name": "ipython",
    "version": 3
   },
   "file_extension": ".py",
   "mimetype": "text/x-python",
   "name": "python",
   "nbconvert_exporter": "python",
   "pygments_lexer": "ipython3",
   "version": "3.8.10"
  },
  "orig_nbformat": 4,
  "vscode": {
   "interpreter": {
    "hash": "ebc54687aefdcd75e400cbdf1055601fb5433e4cbcb3dedb2c792bb13c2d3644"
   }
  }
 },
 "nbformat": 4,
 "nbformat_minor": 2
}
