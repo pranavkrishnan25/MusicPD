{
 "cells": [
  {
   "cell_type": "code",
   "execution_count": 14,
   "metadata": {},
   "outputs": [],
   "source": [
    "import numpy as np\n",
    "import tensorflow as tf"
   ]
  },
  {
   "cell_type": "code",
   "execution_count": 15,
   "metadata": {},
   "outputs": [],
   "source": [
    "# Load dataset\n",
    "X_data = np.load(\"Processed DaphNet/final_x.npy\")\n",
    "Y_data = np.load(\"Processed DaphNet/final_y.npy\")"
   ]
  },
  {
   "cell_type": "code",
   "execution_count": 16,
   "metadata": {},
   "outputs": [],
   "source": [
    "def load_model(model_path):\n",
    "\n",
    "\t# Load the TFLite model and allocate tensors.\n",
    "\tinterpreter = tf.lite.Interpreter(model_path=model_path)\n",
    "\tinterpreter.allocate_tensors()\n",
    "\n",
    "\t# Get input and output tensors.\n",
    "\tinput_details = interpreter.get_input_details()\n",
    "\toutput_details = interpreter.get_output_details()\n",
    "\n",
    "\treturn interpreter, input_details, output_details"
   ]
  },
  {
   "cell_type": "code",
   "execution_count": 17,
   "metadata": {},
   "outputs": [],
   "source": [
    "def predict(input):\n",
    "\tinterpreter.set_tensor(input_details[0]['index'], input.reshape(1, 256, 3).astype(np.float32))\n",
    "\t\n",
    "\tinterpreter.invoke()\n",
    "\n",
    "\toutput_data = interpreter.get_tensor(output_details[0]['index'])\n",
    "\treturn output_data"
   ]
  },
  {
   "cell_type": "code",
   "execution_count": 18,
   "metadata": {},
   "outputs": [
    {
     "name": "stdout",
     "output_type": "stream",
     "text": [
      "[[0.04311391]]\n"
     ]
    }
   ],
   "source": [
    "# Load TFLite model\n",
    "interpreter, input_details, output_details = load_model(model_path=\"models/baseline_model.tflite\")\n",
    "\n",
    "# Predict using model\n",
    "output = predict(X_data[0])\n",
    "print(output)"
   ]
  }
 ],
 "metadata": {
  "kernelspec": {
   "display_name": "Python 3.8.10 64-bit",
   "language": "python",
   "name": "python3"
  },
  "language_info": {
   "codemirror_mode": {
    "name": "ipython",
    "version": 3
   },
   "file_extension": ".py",
   "mimetype": "text/x-python",
   "name": "python",
   "nbconvert_exporter": "python",
   "pygments_lexer": "ipython3",
   "version": "3.8.10"
  },
  "orig_nbformat": 4,
  "vscode": {
   "interpreter": {
    "hash": "ebc54687aefdcd75e400cbdf1055601fb5433e4cbcb3dedb2c792bb13c2d3644"
   }
  }
 },
 "nbformat": 4,
 "nbformat_minor": 2
}
